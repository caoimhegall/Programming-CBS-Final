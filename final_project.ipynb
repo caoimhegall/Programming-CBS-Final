{
 "cells": [
  {
   "cell_type": "markdown",
   "metadata": {},
   "source": [
    "## Final code for Programming, Algorithms, and Data Structures\n",
    "December 20 2024 - Fall 2024\n",
    "\n",
    "Caoimhe Gallahue\n"
   ]
  },
  {
   "cell_type": "code",
   "execution_count": 1,
   "metadata": {},
   "outputs": [],
   "source": [
    "import random"
   ]
  },
  {
   "cell_type": "code",
   "execution_count": 2,
   "metadata": {},
   "outputs": [],
   "source": [
    "class Seat:\n",
    "    def __init__(self, seat_id, floor):\n",
    "        self.seat_id = seat_id\n",
    "        self.floor = floor\n",
    "        self.is_booked = False\n",
    "\n",
    "    def book_seat(self):\n",
    "        if not self.is_booked:\n",
    "            self.is_booked = True\n",
    "            return f\"Seat {self.seat_id} has been booked by student .\"\n",
    "        else:\n",
    "            return f\"Seat {self.seat_id} is already booked.\"\n",
    "\n",
    "    def release_seat(self):\n",
    "        if self.is_booked:\n",
    "            self.is_booked = False\n",
    "            return f\"Seat {self.seat_id} has been released.\"\n",
    "        else:\n",
    "            return f\"Seat {self.seat_id} is not booked.\"\n",
    "        \n",
    "class Room(Seat):\n",
    "    def __init__(self, room_id, floor, capacity):\n",
    "        super().__init__(room_id, floor)\n",
    "        self.capacity = capacity\n",
    "\n",
    "    \n",
    "class Library:\n",
    "    def __init__(self, num_seats, num_rooms, room_capacity):\n",
    "        self.seats = {}\n",
    "        self.rooms = [Room(room_id, 1, room_capacity) for room_id in range(1, num_rooms + 1)]\n",
    "        floor_capacity = 50\n",
    "        floors = [i for i in range(0, 4)]\n",
    "        print(floors)\n",
    "        for seat_id in range(1, num_seats + 1):\n",
    "            floor = random.choice(floors)\n",
    "            if floor not in self.seats:\n",
    "                self.seats[floor] = []\n",
    "            self.seats[floor].append(Seat(seat_id, floor))\n",
    "\n",
    "    def book_seat(self, seat_id):\n",
    "        for floor, seats in self.seats.items():\n",
    "            for seat in seats:\n",
    "                if seat.seat_id == seat_id:\n",
    "                    return seat.book_seat()\n",
    "        return \"Invalid seat ID.\"\n",
    "\n",
    "    def release_seat(self, seat_id):\n",
    "        for floor, seats in self.seats.items():\n",
    "            for seat in seats:\n",
    "                if seat.seat_id == seat_id:\n",
    "                    return seat.release_seat()\n",
    "        return \"Invalid seat ID.\"\n",
    "\n",
    "    def display_seat_capacity(self):\n",
    "        booked_seats = sum(seat.is_booked for seats in self.seats.values() for seat in seats)\n",
    "        total_seats = sum(len(seats) for seats in self.seats.values())\n",
    "        tot_percentage = (booked_seats / total_seats) * 100\n",
    "        return f\"Total seats: {total_seats}, Booked seats: {booked_seats}, Available seats: {total_seats - booked_seats}, Percent full: {tot_percentage}%\"\n",
    "\n",
    "    def display_room_capacity(self):\n",
    "        booked_rooms = sum(room.is_booked for room in self.rooms)\n",
    "        total_rooms = len(self.rooms)\n",
    "        percentage = (booked_rooms / total_rooms) * 100\n",
    "        return f\"Total rooms: {total_rooms}, Booked rooms: {booked_rooms}, Available rooms: {total_rooms - booked_rooms}, Percent full: {percentage}%\"\n",
    "    \n",
    "    def display_floor_capacity(self, floor):\n",
    "        if floor in self.seats:\n",
    "            booked_seats = sum(seat.is_booked for seat in self.seats[floor])\n",
    "            total_seats = len(self.seats[floor])\n",
    "            percentage = (booked_seats / total_seats) * 100\n",
    "            return f\"Floor {floor} - Total seats: {total_seats}, Booked seats: {booked_seats}, Available seats: {total_seats - booked_seats}, Percent full: {percentage}%\"\n",
    "        else:\n",
    "            return f\"No seats on floor {floor}\"\n",
    "        \n",
    "\n",
    "class Student:\n",
    "    def __init__(self, id, email, Library):\n",
    "        self.id = id\n",
    "        self.email = email\n",
    "        self.Library = Library\n",
    "\n",
    "    def book_seat(self, seat_id):\n",
    "        if 1 <= seat_id <= len(Library.seats):\n",
    "            return Library.seats[seat_id - 1].book_seat()\n",
    "        else:\n",
    "            return \"Invalid seat ID.\"\n"
   ]
  },
  {
   "cell_type": "code",
   "execution_count": 3,
   "metadata": {},
   "outputs": [],
   "source": [
    "class Application:\n",
    "    def __init__(self):\n",
    "        self.Library = Library(100, 5, 20)\n",
    "\n",
    "    def run(self):\n",
    "        end = False\n",
    "        while not end:\n",
    "            n = int(input(\"Choose one from the menu options: \"))\n",
    "            match n:\n",
    "                case 1:\n",
    "                    seat_id = int(input(\"Enter seat ID: \"))\n",
    "                    print(self.Library.book_seat(seat_id))\n",
    "                case 2:\n",
    "                    seat_id = int(input(\"Enter seat ID: \"))\n",
    "                    print(self.Library.release_seat(seat_id))\n",
    "                case 3:\n",
    "                    print(self.Library.display_seat_capacity())\n",
    "                case 4:\n",
    "                    print(self.Library.display_room_capacity())\n",
    "                case 5:\n",
    "                    floor = int(input(\"Enter floor: \"))\n",
    "                    print(self.Library.display_floor_capacity(floor))\n",
    "                case 6:\n",
    "                    end = True\n",
    "                case _:\n",
    "                    print(\"Invalid option.\")\n",
    "\n"
   ]
  },
  {
   "cell_type": "code",
   "execution_count": 4,
   "metadata": {},
   "outputs": [],
   "source": [
    "def run_sim():\n",
    "    lib = Library(10, 5, 5)\n",
    "    student = Student(1, \"samplestudent@student.cbs.dk\", lib)\n",
    "    '''\n",
    "    print(lib.book_seat(1))\n",
    "    print(lib.book_seat(1))\n",
    "    #print(lib.release_seat(1))\n",
    "    print(lib.display_seat_capacity())\n",
    "    print(lib.display_room_capacity())\n",
    "    print(lib.display_floor_capacity(1))\n",
    "    print(lib.display_floor_capacity(2))'''\n",
    "\n",
    "\n",
    "    for i in range(0, 4):\n",
    "        print(lib.display_floor_capacity(i))\n",
    "    "
   ]
  },
  {
   "cell_type": "code",
   "execution_count": null,
   "metadata": {},
   "outputs": [
    {
     "name": "stdout",
     "output_type": "stream",
     "text": [
      "[0, 1, 2, 3]\n"
     ]
    }
   ],
   "source": [
    "app1 = Application()\n",
    "app1.run()"
   ]
  }
 ],
 "metadata": {
  "kernelspec": {
   "display_name": "Python 3",
   "language": "python",
   "name": "python3"
  },
  "language_info": {
   "codemirror_mode": {
    "name": "ipython",
    "version": 3
   },
   "file_extension": ".py",
   "mimetype": "text/x-python",
   "name": "python",
   "nbconvert_exporter": "python",
   "pygments_lexer": "ipython3",
   "version": "3.12.5"
  }
 },
 "nbformat": 4,
 "nbformat_minor": 2
}
