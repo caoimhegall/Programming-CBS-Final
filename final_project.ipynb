{
 "cells": [
  {
   "cell_type": "markdown",
   "metadata": {},
   "source": [
    "## Final code for Programming, Algorithms, and Data Structures\n",
    "December 20 2024 - Fall 2024\n",
    "\n",
    "Caoimhe Gallahue\n"
   ]
  },
  {
   "cell_type": "code",
   "execution_count": null,
   "metadata": {},
   "outputs": [],
   "source": [
    "class Seat:\n",
    "    def __init__(self, seat_id, floor):\n",
    "        self.seat_id = seat_id\n",
    "        self.floor = floor\n",
    "        self.is_booked = False\n",
    "\n",
    "    def book_seat(self):\n",
    "        if not self.is_booked:\n",
    "            self.is_booked = True\n",
    "            return f\"Seat {self.seat_id} has been booked.\"\n",
    "        else:\n",
    "            return f\"Seat {self.seat_id} is already booked.\"\n",
    "\n",
    "    def release_seat(self):\n",
    "        if self.is_booked:\n",
    "            self.is_booked = False\n",
    "            return f\"Seat {self.seat_id} has been released.\"\n",
    "        else:\n",
    "            return f\"Seat {self.seat_id} is not booked.\"\n",
    "        \n",
    "class Room(Seat):\n",
    "    def __init__(self, room_id, floor, capacity):\n",
    "        super().__init__(room_id, floor)\n",
    "        self.capacity = capacity\n",
    "\n",
    "    \n",
    "class Library:\n",
    "    def __init__(self, num_seats, num_rooms, room_capacity):\n",
    "        self.seats = [Seat(seat_id, 1) for seat_id in range(1, num_seats + 1)]\n",
    "        self.rooms = [Room(room_id, 1, room_capacity) for room_id in range(1, num_rooms + 1)]\n",
    "\n",
    "    def book_seat(self, seat_id):\n",
    "        if 1 <= seat_id <= len(self.seats):\n",
    "            return self.seats[seat_id - 1].book_seat()\n",
    "        else:\n",
    "            return \"Invalid seat ID.\"\n",
    "\n",
    "    def release_seat(self, seat_id):\n",
    "        if 1 <= seat_id <= len(self.seats):\n",
    "            return self.seats[seat_id - 1].release_seat()\n",
    "        else:\n",
    "            return \"Invalid seat ID.\"\n",
    "\n",
    "    def display_seat_capacity(self):\n",
    "        booked_seats = sum(seat.is_booked for seat in self.seats)\n",
    "        total_seats = len(self.seats)\n",
    "        #floor_percentage = ((booked_seats / total_seats) * 100) for self.seats.floor in range(1, 4)\n",
    "        tot_percentage = (booked_seats / total_seats) * 100\n",
    "        return f\"Total seats: {total_seats}, Booked seats: {booked_seats}, Available seats: {total_seats - booked_seats}, Percent full: {percentage}%\"\n",
    "\n",
    "    def display_room_capacity(self):\n",
    "        booked_rooms = sum(room.is_booked for room in self.rooms)\n",
    "        total_rooms = len(self.rooms)\n",
    "        percentage = (booked_rooms / total_rooms) * 100\n",
    "        return f\"Total rooms: {total_rooms}, Booked rooms: {booked_rooms}, Available rooms: {total_rooms - booked_rooms}, Percent full: {percentage}%\"\n",
    "\n",
    "class Student:\n",
    "    def __init__(self, id, email, Library):\n",
    "        self.id = id\n",
    "        self.email = email\n",
    "        self.Library = Library\n",
    "\n",
    "    def book_seat(self, seat_id):\n",
    "        if 1 <= seat_id <= len(Library.seats):\n",
    "            return Library.seats[seat_id - 1].book_seat()\n",
    "        else:\n",
    "            return \"Invalid seat ID.\""
   ]
  },
  {
   "cell_type": "code",
   "execution_count": 8,
   "metadata": {},
   "outputs": [
    {
     "name": "stdout",
     "output_type": "stream",
     "text": [
      "Seat 1 has been booked.\n",
      "Total seats: 10, Booked seats: 1, Available seats: 9, Percent full: 10.0%\n",
      "Total rooms: 12, Booked rooms: 0, Available rooms: 12, Percent full: 0.0%\n"
     ]
    }
   ],
   "source": [
    "# Example usage:\n",
    "library = Library(num_seats=10, num_rooms=12, room_capacity=5)\n",
    "print(library.book_seat(1))\n",
    "print(library.display_seat_capacity())\n",
    "print(library.display_room_capacity())"
   ]
  }
 ],
 "metadata": {
  "kernelspec": {
   "display_name": "Python 3",
   "language": "python",
   "name": "python3"
  },
  "language_info": {
   "codemirror_mode": {
    "name": "ipython",
    "version": 3
   },
   "file_extension": ".py",
   "mimetype": "text/x-python",
   "name": "python",
   "nbconvert_exporter": "python",
   "pygments_lexer": "ipython3",
   "version": "3.12.5"
  }
 },
 "nbformat": 4,
 "nbformat_minor": 2
}
